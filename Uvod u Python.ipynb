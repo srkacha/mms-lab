{
 "cells": [
  {
   "cell_type": "markdown",
   "metadata": {},
   "source": [
    "# Uvod u Python"
   ]
  },
  {
   "cell_type": "markdown",
   "metadata": {},
   "source": [
    "Python je dinamički tipiziran programski jezik visokog nivoa. Često se upoređuje sa pseudokodom jer je lako čitljiv i omogućava definisanje kompleksnih operacija sa malo linija koda. <b>Ono na šta treba obratiti pažnju je da se na kraju linija ne koristi ; kao što je to slučaj u mnogim drugim programskim jezicima.</b>\n",
    "\n",
    "Trenutno postoje dvije podržane verzije Pythona 2.x i 3.x koje nisu u potpunosti kompatibilne. U skolpu predmeta ćemo koristiti verziju 3.x. Trenutno korištenu verziju je moguće provjeriti sljedećom komandom."
   ]
  },
  {
   "cell_type": "code",
   "execution_count": 1,
   "metadata": {},
   "outputs": [
    {
     "name": "stdout",
     "output_type": "stream",
     "text": [
      "3.6.3\n"
     ]
    }
   ],
   "source": [
    "import platform\n",
    "print(platform.python_version())"
   ]
  },
  {
   "cell_type": "markdown",
   "metadata": {},
   "source": [
    "## Razlike između 2.x i 3.x"
   ]
  },
  {
   "cell_type": "code",
   "execution_count": 2,
   "metadata": {},
   "outputs": [
    {
     "name": "stdout",
     "output_type": "stream",
     "text": [
      "Hello\n"
     ]
    }
   ],
   "source": [
    "print(\"Hello\")    #Radi i u Python-u 2.x i 3.x"
   ]
  },
  {
   "cell_type": "code",
   "execution_count": 3,
   "metadata": {},
   "outputs": [
    {
     "ename": "SyntaxError",
     "evalue": "Missing parentheses in call to 'print'. Did you mean print(\"Hello\"    #Radi samo u Pythonu 2.x)? (<ipython-input-3-faf224f3fb02>, line 1)",
     "output_type": "error",
     "traceback": [
      "\u001b[1;36m  File \u001b[1;32m\"<ipython-input-3-faf224f3fb02>\"\u001b[1;36m, line \u001b[1;32m1\u001b[0m\n\u001b[1;33m    print \"Hello\"    #Radi samo u Pythonu 2.x\u001b[0m\n\u001b[1;37m                ^\u001b[0m\n\u001b[1;31mSyntaxError\u001b[0m\u001b[1;31m:\u001b[0m Missing parentheses in call to 'print'. Did you mean print(\"Hello\"    #Radi samo u Pythonu 2.x)?\n"
     ]
    }
   ],
   "source": [
    "print \"Hello\"    #Radi samo u Pythonu 2.x"
   ]
  },
  {
   "cell_type": "code",
   "execution_count": 4,
   "metadata": {},
   "outputs": [
    {
     "data": {
      "text/plain": [
       "1.6666666666666667"
      ]
     },
     "execution_count": 4,
     "metadata": {},
     "output_type": "execute_result"
    }
   ],
   "source": [
    "5 / 3    #Definiše pravo djeljenje u 3.x, dok u verziji 2.x definiše cjelobrojno djeljenje"
   ]
  },
  {
   "cell_type": "code",
   "execution_count": 5,
   "metadata": {},
   "outputs": [
    {
     "data": {
      "text/plain": [
       "1"
      ]
     },
     "execution_count": 5,
     "metadata": {},
     "output_type": "execute_result"
    }
   ],
   "source": [
    "5 // 3    #Definiše cjelobrojno djeljenje u 3.x"
   ]
  },
  {
   "cell_type": "markdown",
   "metadata": {},
   "source": [
    "## Tipovi podataka"
   ]
  },
  {
   "cell_type": "markdown",
   "metadata": {},
   "source": [
    "### Numerički tipovi"
   ]
  },
  {
   "cell_type": "code",
   "execution_count": 6,
   "metadata": {},
   "outputs": [
    {
     "name": "stdout",
     "output_type": "stream",
     "text": [
      "<class 'int'>\n",
      "3\n",
      "4\n",
      "2\n",
      "6\n",
      "9\n",
      "4\n",
      "8\n",
      "<class 'float'>\n",
      "2.5 3.5 5.0 6.25\n"
     ]
    }
   ],
   "source": [
    "x = 3\n",
    "print(type(x))\n",
    "print(x)\n",
    "print(x + 1)\n",
    "print(x - 1)\n",
    "print(x * 2)\n",
    "print(x ** 2)  #Eksponencijacija x^2\n",
    "x += 1\n",
    "print(x)\n",
    "x *= 2\n",
    "print(x)\n",
    "y = 2.5\n",
    "print(type(y))\n",
    "print(y, y + 1, y * 2, y ** 2)"
   ]
  },
  {
   "cell_type": "markdown",
   "metadata": {},
   "source": [
    "U Python-u ne postoje operacije inkrementa i dekrementa (x++, x--). Za rad sa kompleksnim brojevima u Pythonu postoji ugrađen tip podataka, više informacija o ovom tipu podatak je moguće vidjeti u <a href=\"https://docs.python.org/3.6/library/stdtypes.html#numeric-types-int-float-complex\">dokumentaciji</a>."
   ]
  },
  {
   "cell_type": "markdown",
   "metadata": {},
   "source": [
    "### Logički tipovi"
   ]
  },
  {
   "cell_type": "markdown",
   "metadata": {},
   "source": [
    "Za rad sa logičkim tipovima su definisane sve operacije kao i u drugim programskim jezicika, ali za razliku od simbola (&&, ||, ...) Python koristi riječi engleskog jezika. "
   ]
  },
  {
   "cell_type": "code",
   "execution_count": 7,
   "metadata": {},
   "outputs": [
    {
     "name": "stdout",
     "output_type": "stream",
     "text": [
      "<class 'bool'>\n",
      "False\n",
      "True\n",
      "False\n",
      "True\n"
     ]
    }
   ],
   "source": [
    "t = True\n",
    "f = False\n",
    "print(type(t))\n",
    "print(t and f) # Logičko AND\n",
    "print(t or f)  # Logičko OR\n",
    "print(not t)   # Logičko NOT\n",
    "print(t != f)  # Logičko XOR"
   ]
  },
  {
   "cell_type": "markdown",
   "metadata": {},
   "source": [
    "### Stringovi"
   ]
  },
  {
   "cell_type": "markdown",
   "metadata": {},
   "source": [
    "Python posjeduje ugrađenu podršku za rad sa stringovima. Kao i u Javi string je immutable tip. Što znači da nije moguće promjeniti sadržaj stringa, već sve metode koje vrše promjenu stringa u stvari kreiraju novi string objekat. Za pristup slovima stringa je moguće koristiti indeksiranje pomoću [ ]. Za dodatne detalje o stringovima pogledati <a href=\"https://docs.python.org/3.5/library/stdtypes.html#string-methods\">dokumentaciju</a>."
   ]
  },
  {
   "cell_type": "code",
   "execution_count": 8,
   "metadata": {},
   "outputs": [
    {
     "name": "stdout",
     "output_type": "stream",
     "text": [
      "hello\n",
      "5\n",
      "hello world\n",
      "hello world 12\n",
      "hello world 13\n"
     ]
    }
   ],
   "source": [
    "hello = 'hello'    # String može biti kreiran korištenjem jednostrukih navodnika\n",
    "world = \"world\"    # ili dvostrukih navodinika\n",
    "print(hello)\n",
    "print(len(hello))  # Vreća dužinu stringa\n",
    "hw = hello + ' ' + world  # Konkatenacija string-ova\n",
    "print(hw)\n",
    "hw12 = '%s %s %d' % (hello, world, 12)  # Formatiranje stringa\n",
    "print(hw12)\n",
    "hw13 = '{:s} {:s} {:d}'.format(hello, world, 13)  # Novi stil formatiranja stringova https://docs.python.org/3/library/stdtypes.html#str.format\n",
    "print(hw13)"
   ]
  },
  {
   "cell_type": "code",
   "execution_count": 9,
   "metadata": {},
   "outputs": [
    {
     "name": "stdout",
     "output_type": "stream",
     "text": [
      "e\n",
      "ll\n",
      "2\n",
      " world\n"
     ]
    },
    {
     "ename": "TypeError",
     "evalue": "'str' object does not support item assignment",
     "output_type": "error",
     "traceback": [
      "\u001b[1;31m---------------------------------------------------------------------------\u001b[0m",
      "\u001b[1;31mTypeError\u001b[0m                                 Traceback (most recent call last)",
      "\u001b[1;32m<ipython-input-9-8ff2a6cecb35>\u001b[0m in \u001b[0;36m<module>\u001b[1;34m()\u001b[0m\n\u001b[0;32m      3\u001b[0m \u001b[0mprint\u001b[0m\u001b[1;33m(\u001b[0m\u001b[0mhw12\u001b[0m\u001b[1;33m[\u001b[0m\u001b[1;33m-\u001b[0m\u001b[1;36m1\u001b[0m\u001b[1;33m]\u001b[0m\u001b[1;33m)\u001b[0m   \u001b[1;31m#Pristup posljednjem elementu stringa\u001b[0m\u001b[1;33m\u001b[0m\u001b[0m\n\u001b[0;32m      4\u001b[0m \u001b[0mprint\u001b[0m\u001b[1;33m(\u001b[0m\u001b[0mhw12\u001b[0m\u001b[1;33m[\u001b[0m\u001b[1;36m5\u001b[0m\u001b[1;33m:\u001b[0m\u001b[1;33m-\u001b[0m\u001b[1;36m3\u001b[0m\u001b[1;33m]\u001b[0m\u001b[1;33m)\u001b[0m \u001b[1;31m#Pristup od šestog elementa pa do posljednjeg-2\u001b[0m\u001b[1;33m\u001b[0m\u001b[0m\n\u001b[1;32m----> 5\u001b[1;33m \u001b[0mhw12\u001b[0m\u001b[1;33m[\u001b[0m\u001b[1;36m1\u001b[0m\u001b[1;33m]\u001b[0m \u001b[1;33m=\u001b[0m \u001b[1;34m'a'\u001b[0m     \u001b[1;31m#S obzirom da je immutable ovo nije moguće\u001b[0m\u001b[1;33m\u001b[0m\u001b[0m\n\u001b[0m",
      "\u001b[1;31mTypeError\u001b[0m: 'str' object does not support item assignment"
     ]
    }
   ],
   "source": [
    "print(hw12[1])    #Pristup drugom elementu stringa\n",
    "print(hw12[2:4])  #Python omogućava i izdvajanje podstringova [a:b] od pozicije a do b, isključujući b\n",
    "print(hw12[-1])   #Pristup posljednjem elementu stringa\n",
    "print(hw12[5:-3]) #Pristup od šestog elementa pa do posljednjeg-2\n",
    "hw12[1] = 'a'     #S obzirom da je immutable ovo nije moguće"
   ]
  },
  {
   "cell_type": "code",
   "execution_count": 10,
   "metadata": {},
   "outputs": [
    {
     "name": "stdout",
     "output_type": "stream",
     "text": [
      "Hello\n",
      "HELLO\n",
      "he(ell)(ell)o\n",
      "world\n"
     ]
    }
   ],
   "source": [
    "s = \"hello\"\n",
    "print(s.capitalize())  # Povećava prvo slovo stringa, a ostala postavlja na mala\n",
    "print(s.upper())       # Konvertuje string u velika slova\n",
    "print(s.replace('l', '(ell)'))  # Mjenja sva pojavljivanje slova l sa (ell)\n",
    "print('  world '.strip())  # Briše vodeće i praznine na kraju stringa"
   ]
  },
  {
   "cell_type": "markdown",
   "metadata": {},
   "source": [
    "## Kontrola toka i petlje"
   ]
  },
  {
   "cell_type": "markdown",
   "metadata": {},
   "source": [
    "<b>Za razliku od drugih programskih jezika gdje se blok koda koji se izvršava unutar petlje, funkcije,... definiše vitičastim zagradama ili koristenjem naredbi begin i end, u Pythonu se ovo definiše korištenjem uvlačenja koda i mora se biti konzistenatan sa načinom uvlačenja.</b> Iako se za uvlačenje može koristiti proizvoljan broj razmaka ili tabova, preporučeno je da jednom nivou uvlačenja odgovara 4 razmaka."
   ]
  },
  {
   "cell_type": "markdown",
   "metadata": {},
   "source": [
    "### IF"
   ]
  },
  {
   "cell_type": "markdown",
   "metadata": {},
   "source": [
    "Opšta forma if naredbe je\n",
    "\n",
    "if uslov1:\n",
    "    #KOD\n",
    "elif uslov2:\n",
    "    #KOD\n",
    "else:\n",
    "    #KOD"
   ]
  },
  {
   "cell_type": "code",
   "execution_count": 11,
   "metadata": {},
   "outputs": [
    {
     "name": "stdout",
     "output_type": "stream",
     "text": [
      "Uslov ispunjen\n",
      "Uslov nije ispunjen\n",
      "Ispunjeno c\n"
     ]
    }
   ],
   "source": [
    "a = True\n",
    "b = 5\n",
    "c = 2\n",
    "\n",
    "if a:\n",
    "    print(\"Uslov ispunjen\")\n",
    "    \n",
    "if b == 3:\n",
    "    print(\"Uslov ispunjen\")\n",
    "else:\n",
    "    print(\"Uslov nije ispunjen\")\n",
    "    \n",
    "if b == 3:\n",
    "    print(\"Ispunjeno b\")\n",
    "elif c == 2:\n",
    "    print(\"Ispunjeno c\")\n",
    "else:\n",
    "    print(\"Nije ispunjeno\")"
   ]
  },
  {
   "cell_type": "markdown",
   "metadata": {},
   "source": [
    "### FOR "
   ]
  },
  {
   "cell_type": "markdown",
   "metadata": {},
   "source": [
    "For petlja se koristi za iteriranje kroz sekvencu. U poređenju sa drugim programskim jezicima najviše liči na korištenje iteratora."
   ]
  },
  {
   "cell_type": "code",
   "execution_count": 12,
   "metadata": {},
   "outputs": [
    {
     "name": "stdout",
     "output_type": "stream",
     "text": [
      "M\n",
      "u\n",
      "l\n",
      "t\n",
      "i\n",
      "m\n",
      "e\n",
      "d\n",
      "i\n",
      "j\n",
      "a\n",
      "l\n",
      "n\n",
      "i\n",
      " \n",
      "s\n",
      "i\n",
      "s\n",
      "t\n",
      "e\n",
      "m\n",
      "i\n"
     ]
    }
   ],
   "source": [
    "a = \"Multimedijalni sistemi\"\n",
    "for x in a:\n",
    "    print(x)"
   ]
  },
  {
   "cell_type": "markdown",
   "metadata": {},
   "source": [
    "Ukoliko se želi prolaziti kroz određeni niz brojeva moguće je koristiti funkciju range() koja vraća iterator."
   ]
  },
  {
   "cell_type": "code",
   "execution_count": 13,
   "metadata": {},
   "outputs": [
    {
     "name": "stdout",
     "output_type": "stream",
     "text": [
      "0\n",
      "1\n",
      "2\n",
      "3\n",
      "4\n",
      "5\n",
      "-----\n",
      "2\n",
      "3\n",
      "4\n",
      "5\n",
      "-----\n",
      "1\n",
      "4\n",
      "7\n"
     ]
    }
   ],
   "source": [
    "for x in range(6):\n",
    "    print(x)\n",
    "    \n",
    "print(\"-----\")\n",
    "    \n",
    "for x in range(2, 6):\n",
    "    print(x)\n",
    "    \n",
    "print(\"-----\")\n",
    "    \n",
    "for x in range(1, 10, 3):\n",
    "    print(x)"
   ]
  },
  {
   "cell_type": "markdown",
   "metadata": {},
   "source": [
    "### WHILE"
   ]
  },
  {
   "cell_type": "markdown",
   "metadata": {},
   "source": [
    "While petlja se ponaša kao i u drugim programskih jezicima\n",
    "\n",
    "while uslov:\n",
    "    #KOD"
   ]
  },
  {
   "cell_type": "code",
   "execution_count": 14,
   "metadata": {},
   "outputs": [
    {
     "name": "stdout",
     "output_type": "stream",
     "text": [
      "1\n",
      "2\n",
      "3\n",
      "4\n",
      "5\n",
      "6\n",
      "7\n",
      "8\n",
      "9\n"
     ]
    }
   ],
   "source": [
    "a = 1\n",
    "\n",
    "while a < 10:\n",
    "    print(a)\n",
    "    a += 1"
   ]
  },
  {
   "cell_type": "markdown",
   "metadata": {},
   "source": [
    "### Kontrola toka"
   ]
  },
  {
   "cell_type": "markdown",
   "metadata": {},
   "source": [
    "Kao i u drugim programskim jezicika postoje naredbe break i continue za kontrolu toka."
   ]
  },
  {
   "cell_type": "markdown",
   "metadata": {},
   "source": [
    "## Kontejneri"
   ]
  },
  {
   "cell_type": "markdown",
   "metadata": {},
   "source": [
    "Python posjeduje nekoliko tipova kontejnera: liste (lists), rječnike/mape (dictionaries), skupovi (sets) i uređene n-torke (tuples)."
   ]
  },
  {
   "cell_type": "markdown",
   "metadata": {},
   "source": [
    "### List "
   ]
  },
  {
   "cell_type": "markdown",
   "metadata": {},
   "source": [
    "Odgovara korištenju listi ili nizova u drugim programskim jezicima. Za razliku od većine drugih jezika Python liste mogu da mjenjaju veličinu i da sadrže elemente različitih tipova. Takođe, korištenjem metoda koje su već definisane za liste moguće je dobiti ponašanje koje odgovara FIFO ili LIFO strukturama. Liste se mogu kreirati nabrajanjem elemenata liste ili korištenjem funkcije <code>list</code>. <a href=\"https://docs.python.org/3.5/tutorial/datastructures.html#more-on-lists\">DOKUMENTACIJA</a>"
   ]
  },
  {
   "cell_type": "code",
   "execution_count": 15,
   "metadata": {},
   "outputs": [
    {
     "name": "stdout",
     "output_type": "stream",
     "text": [
      "[3, 1, 2] 2\n",
      "2\n",
      "[3, 1, 'foo']\n",
      "[3, 1, 'foo', 'bar']\n",
      "bar [3, 1, 'foo']\n"
     ]
    }
   ],
   "source": [
    "xs = [3, 1, 2]    # Kreiranje liste\n",
    "print(xs, xs[2])  # Prvi element liste ima indeks 0\n",
    "print(xs[-1])     # Posljednji element liste\n",
    "xs[2] = 'foo'     # Postavljanje vrijednosti trećeg elementa\n",
    "print(xs)         \n",
    "xs.append('bar')  # Dodaje novi element na kraj liste\n",
    "print(xs)         \n",
    "x = xs.pop()      # Uklanja i vraća posljednji element liste\n",
    "print(x, xs)      "
   ]
  },
  {
   "cell_type": "markdown",
   "metadata": {},
   "source": [
    "<b>Slicing:</b> podrazumijeva mogućnost pristupa podlistama, slično kao što smo imali kod stringova"
   ]
  },
  {
   "cell_type": "code",
   "execution_count": 16,
   "metadata": {},
   "outputs": [
    {
     "name": "stdout",
     "output_type": "stream",
     "text": [
      "[0, 1, 2, 3, 4]\n",
      "[2, 3]\n",
      "[2, 3, 4]\n",
      "[0, 1]\n",
      "[0, 1, 2, 3, 4]\n",
      "[0, 1, 2, 3]\n",
      "[0, 1, 8, 9, 4]\n"
     ]
    }
   ],
   "source": [
    "nums = list(range(5))     # Kreiranje liste\n",
    "print(nums)               \n",
    "print(nums[2:4])          \n",
    "print(nums[2:])           # Pristup od indeksa 2 do posljednjeg\n",
    "print(nums[:2])           # Pristup od početnog do indeksa 2\n",
    "print(nums[:])            \n",
    "print(nums[:-1])          \n",
    "nums[2:4] = [8, 9]        \n",
    "print(nums)               "
   ]
  },
  {
   "cell_type": "markdown",
   "metadata": {},
   "source": [
    "Korištenjem for petlje je moguće iterirati kroz listu."
   ]
  },
  {
   "cell_type": "code",
   "execution_count": 17,
   "metadata": {},
   "outputs": [
    {
     "name": "stdout",
     "output_type": "stream",
     "text": [
      "cat\n",
      "dog\n",
      "monkey\n"
     ]
    }
   ],
   "source": [
    "animals = ['cat', 'dog', 'monkey']\n",
    "for animal in animals:\n",
    "    print(animal)"
   ]
  },
  {
   "cell_type": "markdown",
   "metadata": {},
   "source": [
    "Ukoliko je potrebno pristupiti i elementu i njegovom indeksu onda je moguće koristiti funkciju enumerate()."
   ]
  },
  {
   "cell_type": "code",
   "execution_count": 18,
   "metadata": {},
   "outputs": [
    {
     "name": "stdout",
     "output_type": "stream",
     "text": [
      "#1: cat\n",
      "#2: dog\n",
      "#3: monkey\n"
     ]
    }
   ],
   "source": [
    "animals = ['cat', 'dog', 'monkey']\n",
    "for idx, animal in enumerate(animals):\n",
    "    print('#%d: %s' % (idx + 1, animal))"
   ]
  },
  {
   "cell_type": "markdown",
   "metadata": {},
   "source": [
    "<b>List comprehensions:</b> Omogućava kreiranje nove liste na osnovu nekog već postojećeg iteratora ili kontejnera."
   ]
  },
  {
   "cell_type": "code",
   "execution_count": 19,
   "metadata": {},
   "outputs": [
    {
     "name": "stdout",
     "output_type": "stream",
     "text": [
      "[0, 1, 4, 9, 16]\n"
     ]
    }
   ],
   "source": [
    "nums = [0, 1, 2, 3, 4]\n",
    "squares = [x ** 2 for x in nums]    #Računanje kvadrata za svaki element liste nums\n",
    "print(squares)"
   ]
  },
  {
   "cell_type": "code",
   "execution_count": 20,
   "metadata": {},
   "outputs": [
    {
     "name": "stdout",
     "output_type": "stream",
     "text": [
      "[0, 4, 16]\n"
     ]
    }
   ],
   "source": [
    "nums = [0, 1, 2, 3, 4]\n",
    "even_squares = [x ** 2 for x in nums if x % 2 == 0]    #Računanje kvadrata samo za parne elemente\n",
    "print(even_squares)"
   ]
  },
  {
   "cell_type": "markdown",
   "metadata": {},
   "source": [
    "### Dictionaries"
   ]
  },
  {
   "cell_type": "markdown",
   "metadata": {},
   "source": [
    "Čuvaju parove (ključ, vrijednost) slično mapi u Javi ili C++. <a href=\"https://docs.python.org/3.5/library/stdtypes.html#dict\">DOKUMENTACIJA</a>"
   ]
  },
  {
   "cell_type": "code",
   "execution_count": 21,
   "metadata": {},
   "outputs": [
    {
     "name": "stdout",
     "output_type": "stream",
     "text": [
      "cute\n",
      "True\n",
      "wet\n",
      "N/A\n",
      "wet\n",
      "N/A\n"
     ]
    }
   ],
   "source": [
    "d = {'cat': 'cute', 'dog': 'furry'}  # Kreiranje novog dictionary-a\n",
    "print(d['cat'])       # Pristup elementu sa ključem cat\n",
    "print('cat' in d)     # Provjera da li ključ cat postoji u dictionary-ju\n",
    "d['fish'] = 'wet'     # Postavljanje vrijednosti\n",
    "print(d['fish'])      \n",
    "#print(d['monkey'])  # KeyError: 'monkey' not a key of d\n",
    "print(d.get('monkey', 'N/A'))  # Pristup elementu sa podrazumijevanom vrijednosti\n",
    "print(d.get('fish', 'N/A'))    \n",
    "del d['fish']         # Uklanjanje elementa\n",
    "print(d.get('fish', 'N/A')) "
   ]
  },
  {
   "cell_type": "markdown",
   "metadata": {},
   "source": [
    "<b>Iteriranje</b>"
   ]
  },
  {
   "cell_type": "code",
   "execution_count": 22,
   "metadata": {},
   "outputs": [
    {
     "name": "stdout",
     "output_type": "stream",
     "text": [
      "A person has 2 legs\n",
      "A cat has 4 legs\n",
      "A spider has 8 legs\n"
     ]
    }
   ],
   "source": [
    "d = {'person': 2, 'cat': 4, 'spider': 8}\n",
    "for animal in d:\n",
    "    legs = d[animal]\n",
    "    print('A %s has %d legs' % (animal, legs))"
   ]
  },
  {
   "cell_type": "code",
   "execution_count": 23,
   "metadata": {},
   "outputs": [
    {
     "name": "stdout",
     "output_type": "stream",
     "text": [
      "A person has 2 legs\n",
      "A cat has 4 legs\n",
      "A spider has 8 legs\n"
     ]
    }
   ],
   "source": [
    "d = {'person': 2, 'cat': 4, 'spider': 8}\n",
    "for animal, legs in d.items():\n",
    "    print('A %s has %d legs' % (animal, legs))"
   ]
  },
  {
   "cell_type": "markdown",
   "metadata": {},
   "source": [
    "<b>Dictionary comprehensions</b>"
   ]
  },
  {
   "cell_type": "code",
   "execution_count": 24,
   "metadata": {},
   "outputs": [
    {
     "name": "stdout",
     "output_type": "stream",
     "text": [
      "{0: 0, 2: 4, 4: 16}\n"
     ]
    }
   ],
   "source": [
    "nums = [0, 1, 2, 3, 4]\n",
    "even_num_to_square = {x: x ** 2 for x in nums if x % 2 == 0}\n",
    "print(even_num_to_square)"
   ]
  },
  {
   "cell_type": "markdown",
   "metadata": {},
   "source": [
    "### Sets"
   ]
  },
  {
   "cell_type": "markdown",
   "metadata": {},
   "source": [
    "Set je neuređena kolekcija različitih elemenata. <a href=\"https://docs.python.org/3.5/library/stdtypes.html#set\">DOKUMENTACIJA</a>"
   ]
  },
  {
   "cell_type": "code",
   "execution_count": 25,
   "metadata": {},
   "outputs": [
    {
     "name": "stdout",
     "output_type": "stream",
     "text": [
      "True\n",
      "False\n",
      "True\n",
      "3\n",
      "3\n",
      "2\n"
     ]
    }
   ],
   "source": [
    "animals = {'cat', 'dog'}  # Kreiranje\n",
    "print('cat' in animals)   # Provjera da li element pripada\n",
    "print('fish' in animals)  \n",
    "animals.add('fish')       # Dodavanje elementa\n",
    "print('fish' in animals)  \n",
    "print(len(animals))       # Broje elemenata\n",
    "animals.add('cat')        # Dodavanje istog elementa ne radi ništa\n",
    "print(len(animals))       \n",
    "animals.remove('cat')     # Brisanje elementa\n",
    "print(len(animals))       "
   ]
  },
  {
   "cell_type": "markdown",
   "metadata": {},
   "source": [
    "<b>Iteriranje: </b> Slično kao kod listi ali treba biti oprezan jer se zbog neuređenosti ne može pretpostaviti poredak elementa"
   ]
  },
  {
   "cell_type": "code",
   "execution_count": 26,
   "metadata": {},
   "outputs": [
    {
     "name": "stdout",
     "output_type": "stream",
     "text": [
      "#1: cat\n",
      "#2: dog\n",
      "#3: fish\n"
     ]
    }
   ],
   "source": [
    "animals = {'cat', 'dog', 'fish'}\n",
    "for idx, animal in enumerate(animals):\n",
    "    print('#%d: %s' % (idx + 1, animal))"
   ]
  },
  {
   "cell_type": "markdown",
   "metadata": {},
   "source": [
    "<b>Set comprehensions</b>"
   ]
  },
  {
   "cell_type": "code",
   "execution_count": 27,
   "metadata": {},
   "outputs": [
    {
     "name": "stdout",
     "output_type": "stream",
     "text": [
      "{0, 1, 2, 3, 4, 5}\n"
     ]
    }
   ],
   "source": [
    "from math import sqrt\n",
    "nums = {int(sqrt(x)) for x in range(30)}\n",
    "print(nums)"
   ]
  },
  {
   "cell_type": "markdown",
   "metadata": {},
   "source": [
    "### Tuples"
   ]
  },
  {
   "cell_type": "markdown",
   "metadata": {},
   "source": [
    "Tuple je uređena lista vrijednosti koje je nepromjenljiva (immutable). Slični su listama ali jedna od najbitnijih razlika je da se tuple može koristiti kao ključ u dictionary-u i kao elementi set-ova, dok se liste ne mogu koristiti i navedene svrhe. <a href=\"https://docs.python.org/3.5/tutorial/datastructures.html#tuples-and-sequences\">DOKUMENTACIJA</a>"
   ]
  },
  {
   "cell_type": "code",
   "execution_count": 28,
   "metadata": {},
   "outputs": [
    {
     "name": "stdout",
     "output_type": "stream",
     "text": [
      "<class 'tuple'>\n",
      "5\n",
      "1\n"
     ]
    },
    {
     "ename": "TypeError",
     "evalue": "'tuple' object does not support item assignment",
     "output_type": "error",
     "traceback": [
      "\u001b[1;31m---------------------------------------------------------------------------\u001b[0m",
      "\u001b[1;31mTypeError\u001b[0m                                 Traceback (most recent call last)",
      "\u001b[1;32m<ipython-input-28-4111e6247c99>\u001b[0m in \u001b[0;36m<module>\u001b[1;34m()\u001b[0m\n\u001b[0;32m      4\u001b[0m \u001b[0mprint\u001b[0m\u001b[1;33m(\u001b[0m\u001b[0md\u001b[0m\u001b[1;33m[\u001b[0m\u001b[0mt\u001b[0m\u001b[1;33m]\u001b[0m\u001b[1;33m)\u001b[0m\u001b[1;33m\u001b[0m\u001b[0m\n\u001b[0;32m      5\u001b[0m \u001b[0mprint\u001b[0m\u001b[1;33m(\u001b[0m\u001b[0md\u001b[0m\u001b[1;33m[\u001b[0m\u001b[1;33m(\u001b[0m\u001b[1;36m1\u001b[0m\u001b[1;33m,\u001b[0m \u001b[1;36m2\u001b[0m\u001b[1;33m)\u001b[0m\u001b[1;33m]\u001b[0m\u001b[1;33m)\u001b[0m\u001b[1;33m\u001b[0m\u001b[0m\n\u001b[1;32m----> 6\u001b[1;33m \u001b[0mt\u001b[0m\u001b[1;33m[\u001b[0m\u001b[1;36m0\u001b[0m\u001b[1;33m]\u001b[0m \u001b[1;33m=\u001b[0m \u001b[1;36m4\u001b[0m \u001b[1;31m# Ne radi (immutable)\u001b[0m\u001b[1;33m\u001b[0m\u001b[0m\n\u001b[0m",
      "\u001b[1;31mTypeError\u001b[0m: 'tuple' object does not support item assignment"
     ]
    }
   ],
   "source": [
    "d = {(x, x + 1): x for x in range(10)}  # Kreiranje dictionary-ja sa ključevima tipa tuple\n",
    "t = (5, 6)        # Kreiranje tuple-a\n",
    "print(type(t))    \n",
    "print(d[t])       \n",
    "print(d[(1, 2)])\n",
    "t[0] = 4 # Ne radi (immutable)"
   ]
  },
  {
   "cell_type": "markdown",
   "metadata": {},
   "source": [
    "## Funkcije"
   ]
  },
  {
   "cell_type": "markdown",
   "metadata": {},
   "source": [
    "Funkcije se definišu korištenjem ključne riječi def. <a href=\"https://docs.python.org/3.5/tutorial/controlflow.html#defining-functions\">DOKUMENTACIJA</a>"
   ]
  },
  {
   "cell_type": "code",
   "execution_count": 29,
   "metadata": {},
   "outputs": [
    {
     "name": "stdout",
     "output_type": "stream",
     "text": [
      "negative\n",
      "zero\n",
      "positive\n"
     ]
    }
   ],
   "source": [
    "def sign(x):\n",
    "    if x > 0:\n",
    "        return 'positive'\n",
    "    elif x < 0:\n",
    "        return 'negative'\n",
    "    else:\n",
    "        return 'zero'\n",
    "\n",
    "for x in [-1, 0, 1]:\n",
    "    print(sign(x))"
   ]
  },
  {
   "cell_type": "code",
   "execution_count": 30,
   "metadata": {},
   "outputs": [
    {
     "name": "stdout",
     "output_type": "stream",
     "text": [
      "Hello, Bob\n",
      "HELLO, FRED!\n"
     ]
    }
   ],
   "source": [
    "def hello(name, loud=False):    # loud je opcioni argument funkcije sa podrazumijevanom vrijednošću False\n",
    "    if loud:\n",
    "        print('HELLO, %s!' % name.upper())\n",
    "    else:\n",
    "        print('Hello, %s' % name)\n",
    "\n",
    "hello('Bob')\n",
    "hello('Fred', loud=True)"
   ]
  },
  {
   "cell_type": "markdown",
   "metadata": {},
   "source": [
    "## Klase"
   ]
  },
  {
   "cell_type": "markdown",
   "metadata": {},
   "source": [
    "<a href=\"https://docs.python.org/3.5/tutorial/classes.html\">DOKUMENTACIJA</a>"
   ]
  },
  {
   "cell_type": "code",
   "execution_count": 31,
   "metadata": {},
   "outputs": [
    {
     "name": "stdout",
     "output_type": "stream",
     "text": [
      "Hello, Fred\n",
      "HELLO, FRED!\n"
     ]
    }
   ],
   "source": [
    "class Greeter(object):\n",
    "\n",
    "    # Konstruktor\n",
    "    def __init__(self, name):\n",
    "        self.name = name  # Kreira promjenljivu instance\n",
    "\n",
    "    # Metoda instance\n",
    "    def greet(self, loud=False):\n",
    "        if loud:\n",
    "            print('HELLO, %s!' % self.name.upper())\n",
    "        else:\n",
    "            print('Hello, %s' % self.name)\n",
    "\n",
    "g = Greeter('Fred')  # Kreiranje objekta\n",
    "g.greet()            # Poziv metode\n",
    "g.greet(loud=True) "
   ]
  },
  {
   "cell_type": "markdown",
   "metadata": {},
   "source": [
    "## Importovanje biblioteka "
   ]
  },
  {
   "cell_type": "markdown",
   "metadata": {},
   "source": [
    "Za importovanje biblioteka se koristi ključna riječ <i>import</i>"
   ]
  },
  {
   "cell_type": "code",
   "execution_count": 32,
   "metadata": {},
   "outputs": [
    {
     "name": "stdout",
     "output_type": "stream",
     "text": [
      "[1 2 3]\n",
      "[5 4 3 2 1]\n"
     ]
    }
   ],
   "source": [
    "import numpy\n",
    "\n",
    "a = numpy.array([1, 2, 3])     #Za pristup elementima biblioteke koristi se libraryName.element\n",
    "print(a)\n",
    "\n",
    "\n",
    "import numpy as np    # Korištenjem ključne riječi as dodjeljuje se alias za biblioteku\n",
    "a = np.array([5, 4, 3, 2, 1])    #Za pristup elementima se sada koristi alias.element\n",
    "print(a)"
   ]
  },
  {
   "cell_type": "markdown",
   "metadata": {},
   "source": [
    "Ukoliko je potrebno uključiti samo neke funkcije ili klase iz biblioteke moguće je korisiti ključne riječi <i>from, import</i>"
   ]
  },
  {
   "cell_type": "code",
   "execution_count": 33,
   "metadata": {
    "collapsed": true
   },
   "outputs": [],
   "source": [
    "from scipy.io import wavfile  #Iz biblioteke scipy.io se uključuje funkcija wavfile"
   ]
  }
 ],
 "metadata": {
  "kernelspec": {
   "display_name": "Python 3",
   "language": "python",
   "name": "python3"
  },
  "language_info": {
   "codemirror_mode": {
    "name": "ipython",
    "version": 3
   },
   "file_extension": ".py",
   "mimetype": "text/x-python",
   "name": "python",
   "nbconvert_exporter": "python",
   "pygments_lexer": "ipython3",
   "version": "3.7.0"
  }
 },
 "nbformat": 4,
 "nbformat_minor": 2
}
