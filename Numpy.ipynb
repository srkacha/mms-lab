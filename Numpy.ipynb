{
 "cells": [
  {
   "cell_type": "markdown",
   "metadata": {},
   "source": [
    "# Numpy"
   ]
  },
  {
   "cell_type": "markdown",
   "metadata": {},
   "source": [
    "Numpy je najkorištenija biblioteka za matematičke i naučne proračune u Pythonu. Omogućava rad sa vektorima i matricama, mogućnosti čitanja i pisanja različitih tipova fajlova, računanje diskretne Furijeove transformacije, operacije linearne algebre, statistike,... https://docs.scipy.org/doc/numpy-1.10.1/user/whatisnumpy.html.\n",
    "Uobičajeno je da se numpy biblioteka importuje uz korištenje aliasa <code>np</code>."
   ]
  },
  {
   "cell_type": "code",
   "execution_count": 2,
   "metadata": {},
   "outputs": [],
   "source": [
    "import numpy as np"
   ]
  },
  {
   "cell_type": "markdown",
   "metadata": {},
   "source": [
    "Za početak ćemo uporediti vrijeme koje je potrebno za računanje operacija na dva vektora po elementima za slučaj kada se koriste Python liste i numpy array."
   ]
  },
  {
   "cell_type": "code",
   "execution_count": 2,
   "metadata": {},
   "outputs": [
    {
     "name": "stdout",
     "output_type": "stream",
     "text": [
      "Wall time: 5 ms\n"
     ]
    }
   ],
   "source": [
    "%%time\n",
    "a = list(range(100000))\n",
    "b = list(range(100000))"
   ]
  },
  {
   "cell_type": "code",
   "execution_count": 3,
   "metadata": {},
   "outputs": [
    {
     "name": "stdout",
     "output_type": "stream",
     "text": [
      "Wall time: 35 ms\n"
     ]
    }
   ],
   "source": [
    "%%time\n",
    "c = []\n",
    "for i in range(len(a)):\n",
    "    c.append(a[i] + 2 * b[i])"
   ]
  },
  {
   "cell_type": "code",
   "execution_count": 4,
   "metadata": {},
   "outputs": [
    {
     "name": "stdout",
     "output_type": "stream",
     "text": [
      "Wall time: 5.99 ms\n"
     ]
    }
   ],
   "source": [
    "%%time\n",
    "a = np.arange(100000)\n",
    "b = np.arange(100000)"
   ]
  },
  {
   "cell_type": "code",
   "execution_count": 5,
   "metadata": {},
   "outputs": [
    {
     "name": "stdout",
     "output_type": "stream",
     "text": [
      "Wall time: 4 ms\n"
     ]
    }
   ],
   "source": [
    "%%time\n",
    "c = a + 2 * b"
   ]
  },
  {
   "cell_type": "markdown",
   "metadata": {},
   "source": [
    "Python kod je dosta sporiji od Numpy koda iz razloga što se vrši provjera tipa podataka, te se troši dodatno vrijeme koje je potrebno za interpretiranje Python koda, dok Numpy koristi predoptimizovani C kod za izvršavanje operacija.\n",
    "\n",
    "<b>Vektorizacija</b> je proces koji podrazumjeva izvršavanje operacija nad kompletnim vektorima, a ne po elementima (bez korištenja petlji).\n",
    "\n",
    "Vektorizacija je jedan od glavih razloga za moć Numpy-a. Vektorizacija omogućava:\n",
    "1. brže izvršavanje koda (korištenje SIMD instrukcija procesora)\n",
    "2. veću čitljivost i pisanje manje linija koda\n",
    "3. sličnost sa matematičkom notacijom."
   ]
  },
  {
   "cell_type": "markdown",
   "metadata": {},
   "source": [
    "## ndarray "
   ]
  },
  {
   "cell_type": "markdown",
   "metadata": {},
   "source": [
    "Ndarray predstavlja n-dimenzioni niz podataka istog tipa i predstavlja osnovnu strukturu podataka koja se koristi u Numpy-u. Ovi nizovi (vektori) su manje fleksibilni od Python listi jer imaju fiksnu veličinu koja se definiše pri kreiranju i sadrže elemente istog tipa podataka, međutim to omogućava mnogo veću efikasnost sa stanovišta vremena izvršavanja i iskorišćenja memorije. (Python liste u stvari predstavljaju nizove pokazivača na objekte).\n",
    "\n",
    "Broj dimenzija nekog niza (vektora) predstavlja rang niza, dok oblik (shape) niza vraća tuple integer-a koji predstavljaju veličinu niza za svaku dimenziju. Niz ranga 2 je matrica."
   ]
  },
  {
   "cell_type": "code",
   "execution_count": 6,
   "metadata": {},
   "outputs": [
    {
     "name": "stdout",
     "output_type": "stream",
     "text": [
      "<class 'numpy.ndarray'>\n",
      "(3,)\n",
      "1 2 3\n",
      "[5 2 3]\n",
      "(2, 3)\n",
      "1 2 4\n"
     ]
    }
   ],
   "source": [
    "# Numpy niz je moguće kreirati korištenjem Python listi:\n",
    "a = np.array([1, 2, 3])   # Kreiranje niza ranga 1\n",
    "print(type(a))            \n",
    "print(a.shape)            \n",
    "print(a[0], a[1], a[2])   \n",
    "a[0] = 5                  # Promjena prvog elementa niza\n",
    "print(a)                  \n",
    "\n",
    "b = np.array([[1, 2, 3],\n",
    "              [4, 5, 6]])    # Kreiranje niza ranga 2 (niz čiji su elementi nizovi)\n",
    "print(b.shape)                     \n",
    "print(b[0, 0], b[0, 1], b[1, 0])   "
   ]
  },
  {
   "cell_type": "code",
   "execution_count": 7,
   "metadata": {},
   "outputs": [
    {
     "name": "stdout",
     "output_type": "stream",
     "text": [
      "[[0. 0.]\n",
      " [0. 0.]]\n",
      "[[7 7]\n",
      " [7 7]]\n",
      "[[1. 0.]\n",
      " [0. 1.]]\n",
      "[[0.81840229 0.43340031]\n",
      " [0.05199814 0.86560785]]\n",
      "[[1. 1.]\n",
      " [1. 1.]]\n",
      "[0.  0.1 0.2 0.3 0.4 0.5 0.6 0.7 0.8 0.9]\n",
      "[0 1 2 3 4 5 6 7 8 9]\n",
      "[0 1 2 3 4 5 6 7]\n"
     ]
    }
   ],
   "source": [
    "# Numpy takođe daje mogućnost kreiranja i nekih specifičnih nizova\n",
    "\n",
    "a = np.zeros((2, 2))   # Niz nula\n",
    "print(a)               \n",
    "\n",
    "b = np.full((2, 2), 7)  # Konstantan niz\n",
    "print(b)                \n",
    "\n",
    "c = np.eye(2)         # Jedinična matrica\n",
    "print(c)              \n",
    "\n",
    "d = np.random.random((2, 2))  # Niz random vrijednosti\n",
    "print(d)                      \n",
    "    \n",
    "a = np.ones((2, 2))    # Niz jedinica\n",
    "print(a)\n",
    "\n",
    "x = np.arange(0, 1, 0.1) # Prvi argument je početak niza, drugi kraj (nije uključen u niz), a treći korak\n",
    "print(x)\n",
    "\n",
    "y = np.arange(0, 10) # Podrazumijevani korak je 1\n",
    "print(y)\n",
    "\n",
    "z = np.arange(8) # Podrazumijevani početak je 0 i korak 1\n",
    "print(z)"
   ]
  },
  {
   "cell_type": "markdown",
   "metadata": {},
   "source": [
    "Korisna stvar pri radu sa Numpy nizovima je da se vodi računa o obliku (shape) nizova radi lakšeg debagovanja koda."
   ]
  },
  {
   "cell_type": "code",
   "execution_count": 8,
   "metadata": {},
   "outputs": [
    {
     "name": "stdout",
     "output_type": "stream",
     "text": [
      "[0 1 2 3 4 5 6 7]\n",
      "(8,)\n",
      "Reshaped:\n",
      " [[0 1 2 3]\n",
      " [4 5 6 7]]\n",
      "(2, 4)\n",
      "Reshaped with -1:\n",
      " [[0 1]\n",
      " [2 3]\n",
      " [4 5]\n",
      " [6 7]]\n",
      "(4, 2)\n"
     ]
    }
   ],
   "source": [
    "nums = np.arange(8)    # Kreiranje niza sa vrijednostima od 0 do 8\n",
    "print(nums)\n",
    "print(nums.shape)\n",
    "\n",
    "nums = nums.reshape((2, 4)) # Promjena oblika niza\n",
    "print('Reshaped:\\n', nums)\n",
    "print(nums.shape)\n",
    "\n",
    "# Korištenjem -1 unutar reshape govori numpy-u da samostalno odredi tu veličinu na osnovu zadatih i oblika niza.\n",
    "# Moguće je specifikovati samo jednu nepoznatu (-1) dimenziju.\n",
    "nums = nums.reshape((4, -1))\n",
    "print('Reshaped with -1:\\n', nums)\n",
    "print(nums.shape)"
   ]
  },
  {
   "cell_type": "markdown",
   "metadata": {},
   "source": [
    "Numpy podržava objektnu-orijentisanu paradigmu, pa tako ndarray klasa ima veliki broj metoda i atributa koji mogu da vrše funkcije slične funkcijama iz numpy namespace-a."
   ]
  },
  {
   "cell_type": "code",
   "execution_count": 9,
   "metadata": {},
   "outputs": [
    {
     "name": "stdout",
     "output_type": "stream",
     "text": [
      "0\n",
      "0\n"
     ]
    }
   ],
   "source": [
    "nums = np.arange(8)\n",
    "print(nums.min())     \n",
    "print(np.min(nums))   "
   ]
  },
  {
   "cell_type": "markdown",
   "metadata": {},
   "source": [
    "## Operacije sa nizovima"
   ]
  },
  {
   "cell_type": "code",
   "execution_count": 4,
   "metadata": {},
   "outputs": [
    {
     "name": "stdout",
     "output_type": "stream",
     "text": [
      "[[ 6.  8.]\n",
      " [10. 12.]]\n",
      "[[ 6.  8.]\n",
      " [10. 12.]]\n",
      "[[-4. -4.]\n",
      " [-4. -4.]]\n",
      "[[-4. -4.]\n",
      " [-4. -4.]]\n",
      "[[ 5. 12.]\n",
      " [21. 32.]]\n",
      "[[ 5. 12.]\n",
      " [21. 32.]]\n",
      "[[0.2        0.33333333]\n",
      " [0.42857143 0.5       ]]\n",
      "[[0.2        0.33333333]\n",
      " [0.42857143 0.5       ]]\n",
      "[[1.         1.41421356]\n",
      " [1.73205081 2.        ]]\n"
     ]
    }
   ],
   "source": [
    "x = np.array([[1, 2],\n",
    "              [3, 4]], dtype=np.float64)    # Definisanje niza sa specifikovanim tipom podataka\n",
    "y = np.array([[5, 6],\n",
    "              [7, 8]], dtype=np.float64)\n",
    "\n",
    "# Suma po elementima\n",
    "print(x + y)\n",
    "print(np.add(x, y))\n",
    "\n",
    "# Razlika po elementima\n",
    "print(x - y)\n",
    "print(np.subtract(x, y))\n",
    "\n",
    "# Množenje po elementima (nije matrično množenje)\n",
    "print(x * y)\n",
    "print(np.multiply(x, y))\n",
    "\n",
    "# Djeljenje po elementima\n",
    "print(x / y)\n",
    "print(np.divide(x, y))\n",
    "\n",
    "# Kvadratni korijen po elementima\n",
    "print(np.sqrt(x))"
   ]
  },
  {
   "cell_type": "markdown",
   "metadata": {},
   "source": [
    "<b>Voditi računa o tome da * ne definiče matrično množenje nego množenje po elementima. Da bi se izvršilo matrično množenje koristi se dot() metoda/funkcija. Ova funkcija računa u stvari skalarni proizvod, pa treba obratiti pažnju kako se ona ponaša za nizove reda 1 i 2.</b>"
   ]
  },
  {
   "cell_type": "code",
   "execution_count": 11,
   "metadata": {},
   "outputs": [
    {
     "name": "stdout",
     "output_type": "stream",
     "text": [
      "219\n",
      "219\n",
      "219\n",
      "219\n",
      "[[219]]\n",
      "[29 67]\n",
      "[29 67]\n",
      "[39 58]\n",
      "[39 58]\n",
      "[49 68 87]\n",
      "[[19 22]\n",
      " [43 50]]\n",
      "[[19 22]\n",
      " [43 50]]\n"
     ]
    }
   ],
   "source": [
    "x = np.array([[1, 2], [3, 4]])\n",
    "y = np.array([[5, 6], [7, 8]])\n",
    "\n",
    "v = np.array([9, 10])\n",
    "w = np.array([11, 12])\n",
    "\n",
    "v_mat1 = np.array([[9, 10]])\n",
    "w_mat1 = np.array([[11, 12]])\n",
    "\n",
    "a = np.array([[1, 2, 3], [4, 5, 6]])\n",
    "\n",
    "# Skalarni porizvod vektora\n",
    "print(v.dot(w))\n",
    "print(np.dot(v, w))\n",
    "print(w.dot(v))\n",
    "print(np.dot(w, v))\n",
    "\n",
    "# Više nije vektorski proizvod jer su v_mat1 i w_mat1 nizovi reda 2 (matrice)\n",
    "# Nije ga moguće izvršiti jer matrično množenje nije definisano za matrice dimenzija (1, 2) i (1, 2)\n",
    "#print (v_mat1.dot(w_mat1))\n",
    "\n",
    "# Sada odgovara vektorskom proizvodu, ali je rezultat matrica (niz reda 2, a ne skalar)\n",
    "# I dalje je izvršeno matrično množenje ali pošto se vektorski proizvod A, B definiše kao AxB.T matrično\n",
    "print(v_mat1.dot(w_mat1.T))    # .T vrši transponovanje\n",
    "\n",
    "# Računanje proizvoda matrice i vektora, računa se skalarni proizvod svake vrste sa vektorom, rezultat je niz reda 1\n",
    "print(x.dot(v))\n",
    "print(np.dot(x, v))\n",
    "\n",
    "#print(a.dot(v))   # Kako se računa vektorski proizvod vrsta i vektora ovo nije moguće uraditi\n",
    "\n",
    "# Ukoliko je prvi argument vektor, a drugi matrica onda se računa skalarni proizvod svake kolone sa vektorom,\n",
    "# rezultat je niz reda 1\n",
    "print(v.dot(x))\n",
    "print(np.dot(v, x))\n",
    "print(v.dot(a))    # Kako se računa vektorski proizvod kolona i vektora sada je moguće izvršiti\n",
    "\n",
    "# Matrično množenje, rezultat je niz reda 2\n",
    "print(x.dot(y))\n",
    "print(np.dot(x, y))"
   ]
  },
  {
   "cell_type": "markdown",
   "metadata": {},
   "source": [
    "U Numpy-u je definisan veliki broj funkcija sa različitim namjenama, ovim funkcijama je često moguće i proslijediti po kojoj osi da se izvršavaju."
   ]
  },
  {
   "cell_type": "code",
   "execution_count": 20,
   "metadata": {},
   "outputs": [
    {
     "name": "stdout",
     "output_type": "stream",
     "text": [
      "21\n",
      "[5 7 9]\n",
      "[ 6 15]\n",
      "[3 6]\n",
      "[2 2]\n",
      "[[[ 1  2  3]\n",
      "  [ 4  5  6]]\n",
      "\n",
      " [[10 23 33]\n",
      "  [43 52 16]]]\n",
      "(2, 2, 3)\n",
      "[[ 3  6]\n",
      " [33 52]]\n",
      "(2, 3)\n",
      "[33 52]\n",
      "(2,)\n",
      "(2, 3)\n",
      "(1, 2, 3)\n"
     ]
    }
   ],
   "source": [
    "x = np.array([[1, 2, 3], \n",
    "              [4, 5, 6]])\n",
    "\n",
    "print(np.sum(x))          # Suma svih elemenata\n",
    "print(np.sum(x, axis=0))  # Suma po kolonama\n",
    "print(np.sum(x, axis=1))  # Suma po vrstama\n",
    "\n",
    "print(np.max(x, axis=1))  # Računanje maksimuma za svaku vrstu\n",
    "print(np.argmax(x, axis=1)) # Indeks maksimalnog elementa u svakoj vrsti\n",
    "\n",
    "# Niz reda 3\n",
    "x = np.array([[[1, 2, 3], \n",
    "               [4, 5, 6]],\n",
    "              [[10, 23, 33], \n",
    "               [43, 52, 16]]\n",
    "             ])\n",
    "\n",
    "print(x)\n",
    "print(x.shape)\n",
    "print(x.max(axis=2))\n",
    "print((x.max(axis=1)).shape) \n",
    "\n",
    "print((x.max(axis=(0, 2))))       \n",
    "print((x.max(axis=(1, 2))).shape) \n",
    "\n",
    "# Korištenje axis u početku može biti zbunjujuće jer nula osa odgovara vrstama, a računa se funkcija po kolonama.\n",
    "# Ono što axis u stvari definiše je koja osa će biti izbačena iz rezultata.\n",
    "# Računanjem ovih funkcija dobija se izlaz koji ima onoliko dimenzija manje koliko je osa specifikovano.\n",
    "# Nekada je korisno da izlaz ima isti broj dimenzija kao i ulaz, pa iz tog razloga u numpy-u postoji i parametar keepdims koji\n",
    "# kada se postavi na True vraća rezultat sa istim brojem dimenzija.\n",
    "\n",
    "print(np.sum(x, axis=0).shape)\n",
    "print(np.sum(x, axis=0, keepdims = True).shape)"
   ]
  },
  {
   "cell_type": "code",
   "execution_count": null,
   "metadata": {},
   "outputs": [],
   "source": []
  },
  {
   "cell_type": "markdown",
   "metadata": {},
   "source": [
    "## Indeksiranje "
   ]
  },
  {
   "cell_type": "markdown",
   "metadata": {},
   "source": [
    "Kao i Python, Numpy omogućava različite metode indeksiranja i slicing-a."
   ]
  },
  {
   "cell_type": "code",
   "execution_count": 13,
   "metadata": {},
   "outputs": [
    {
     "name": "stdout",
     "output_type": "stream",
     "text": [
      "Original:\n",
      " [[ 1  2  3  4]\n",
      " [ 5  6  7  8]\n",
      " [ 9 10 11 12]]\n",
      "Element (0, 0) (a[0][0]):\n",
      " 1\n",
      "Element (0, 0) (a[0, 0]) :\n",
      " 1\n",
      "Sliced (a[0:2, 1:3]):\n",
      " [[2 3]\n",
      " [6 7]]\n",
      "Sliced (a[:2, 1:3]):\n",
      " [[2 3]\n",
      " [6 7]]\n",
      "Sliced (a[1:, 0:4:2]):\n",
      " [[ 5  7]\n",
      " [ 9 11]]\n",
      "Reversing the first row (a[0, ::-1]) :\n",
      " [4 3 2 1]\n"
     ]
    }
   ],
   "source": [
    "a = np.array([[1, 2, 3, 4],\n",
    "              [5, 6, 7, 8],\n",
    "              [9, 10, 11, 12]])\n",
    "print('Original:\\n', a)\n",
    "\n",
    "# Pristup elementu kao u slučaju dvodimenzionalne Python liste ili C-u.\n",
    "print('Element (0, 0) (a[0][0]):\\n', a[0][0])   \n",
    "# moguće je i sljedeće\n",
    "print('Element (0, 0) (a[0, 0]) :\\n', a[0, 0])  \n",
    "\n",
    "# Korištenjem slicing-a pristup prva dva reda i kolonama sa indeksima 1 i 2\n",
    "b = a[0:2, 1:3]\n",
    "print('Sliced (a[0:2, 1:3]):\\n', b)\n",
    "\n",
    "# Ako je početni indeks 0 ili krajnji jednak dimenziji niza može se izostaviti\n",
    "b = a[:2, 1:3]\n",
    "print('Sliced (a[:2, 1:3]):\\n', b)\n",
    "\n",
    "# Pristup svakoj drugoj koloni\n",
    "c = a[1:, 0:4:2]\n",
    "print('Sliced (a[1:, 0:4:2]):\\n', c)\n",
    "\n",
    "# Pri indeksiranju je dozvoljeno koristiti i korak, pa sljedeći kod pristupa prvom redu u obrnutom redoslijedu\n",
    "print('Reversing the first row (a[0, ::-1]) :\\n', a[0, ::-1]) "
   ]
  },
  {
   "cell_type": "code",
   "execution_count": 14,
   "metadata": {},
   "outputs": [
    {
     "name": "stdout",
     "output_type": "stream",
     "text": [
      "[[ 1  2  3]\n",
      " [ 4  5  6]\n",
      " [ 7  8  9]\n",
      " [10 11 12]]\n",
      "[[11  2  3]\n",
      " [ 4  5 16]\n",
      " [17  8  9]\n",
      " [10 21 12]]\n"
     ]
    }
   ],
   "source": [
    "a = np.array([[1, 2, 3],\n",
    "              [4, 5, 6],\n",
    "              [7, 8, 9],\n",
    "              [10, 11, 12]])\n",
    "\n",
    "print(a)\n",
    "\n",
    "# Moguće je pristupiti i po jednom elementu svakog reda\n",
    "# Kreiranje niza indeksa unutar svakog reda\n",
    "b = np.array([0, 2, 0, 1])\n",
    "\n",
    "# Promjena elemanata sa indeksima iz b unutar svakog reda\n",
    "a[np.arange(4), b] += 10\n",
    "\n",
    "print(a)"
   ]
  },
  {
   "cell_type": "code",
   "execution_count": 15,
   "metadata": {},
   "outputs": [
    {
     "name": "stdout",
     "output_type": "stream",
     "text": [
      "[False False  True False  True False False]\n",
      "[ 1  4  5 -1  5  0  5]\n"
     ]
    }
   ],
   "source": [
    "# Moguće je i pristupanje korištenjem logičkih maski\n",
    "# Ukoliko je sve elemente koji su veći od MAX potrebno postaviti na MAX onda je to moguće uraditi na sljedeći način\n",
    "MAX = 5\n",
    "nums = np.array([1, 4, 10, -1, 15, 0, 5])\n",
    "print(nums > MAX)            \n",
    "\n",
    "nums[nums > MAX] = MAX\n",
    "print(nums)                  "
   ]
  },
  {
   "cell_type": "code",
   "execution_count": 16,
   "metadata": {},
   "outputs": [
    {
     "name": "stdout",
     "output_type": "stream",
     "text": [
      "[ 4 10 -1  4  1]\n"
     ]
    }
   ],
   "source": [
    "# Moguće je koristiti i isti indeks više puta\n",
    "nums = np.array([1, 4, 10, -1, 15, 0, 5])\n",
    "print(nums[[1, 2, 3, 1, 0]])"
   ]
  },
  {
   "cell_type": "markdown",
   "metadata": {},
   "source": [
    "## Broadcasting "
   ]
  },
  {
   "cell_type": "markdown",
   "metadata": {
    "collapsed": true
   },
   "source": [
    "Većina prethodno spomentuih operacija se odnosila na rad sa nizovima istog ranga. Međutim, često postoji potreba da se korištenjem niza nižeg ranga promjene vrijednosti u nizu višeg ranga.\n",
    "\n",
    "Pretpostavimo da je potrebno od vrijednosti matrice (niz ranga 2) oduzeti srednju vrijednost kolone u kojoj se taj element nalazi. Ovo je u Numpy-u moguće uraditi na sljedeći način."
   ]
  },
  {
   "cell_type": "code",
   "execution_count": 17,
   "metadata": {},
   "outputs": [
    {
     "name": "stdout",
     "output_type": "stream",
     "text": [
      "(2, 3)\n",
      "[[1 2 3]\n",
      " [3 5 7]]\n",
      "[2.  3.5 5. ]\n",
      "(3,)\n",
      "\n",
      " [[-1.  -1.5 -2. ]\n",
      " [ 1.   1.5  2. ]]\n",
      "(2, 3)\n"
     ]
    }
   ],
   "source": [
    "x = np.array([[1, 2, 3],\n",
    "              [3, 5, 7]])\n",
    "print(x.shape)\n",
    "print(x)\n",
    "\n",
    "col_means = x.mean(axis=0)\n",
    "print(col_means)         \n",
    "print(col_means.shape)    \n",
    "\n",
    "mean_shifted = x - col_means    #BROADCASTING, col_means ima manji rang (1) od x (2)\n",
    "print('\\n', mean_shifted)\n",
    "print(mean_shifted.shape)"
   ]
  },
  {
   "cell_type": "markdown",
   "metadata": {},
   "source": [
    "Broadcasting nizova se vrši na sljedeći način:\n",
    "1. Ukoliko nizovi imaju različit rang proširiti niz manjeg ranga na rang višeg niza. Ovo se radi tako što se na postojeći oblik niza na početak dodaju jedinice dok se ne dobije potreban rang.\n",
    "2. Za dva niza se kaže da su kompatibilna po dimenziji ako je veličina te dimezije ista ili je veličina jednaka 1 za jedan od nizova.\n",
    "3. Za dva niza se može uraditi Broadcasting ako su kompatibilni po svim dimenzijama.\n",
    "4. U toku broadcastinga nizovi se ponašaju kao da imaju oblik koji je jednak maksimumu po elementima za oblike oba niza.\n",
    "5. Ako je jedan niz za neku dimenziju imao vrijednost jedan, a drugi neku drugu vrijednost za tu dimenziju. Prvi niz se ponaša kao da je bio kopiran po toj dimenziji.\n",
    "\n",
    "Za dodatno objašnjenje pogledati http://docs.scipy.org/doc/numpy/user/basics.broadcasting.html\n",
    "\n",
    "Ukoliko ova pravila primjenimo na prethodni primjer dobijamo sljedeće:\n",
    "Imali smo nizovi oblika (2, 3) i (3,)\n",
    "1. Kako nizovi nemaju isti rang onda se oblik (shape) drugog niza dopunjava jedinicama do potrebnog ranga. Tako da je oblik drugog niza sada (1, 3).\n",
    "2. Oblici (2, 3) i (1, 3) su kompatibilni po dimenzijama.\n",
    "3. Moguće je izvršiti broadcasting.\n",
    "4. U toku broadcastinga nizovi oba niza se ponašaju kao da imaju oblik (2, 3).\n",
    "5. Drugi niz će se ponašati kao da je kopiran po nultoj dimenziji."
   ]
  },
  {
   "cell_type": "code",
   "execution_count": 18,
   "metadata": {},
   "outputs": [
    {
     "name": "stdout",
     "output_type": "stream",
     "text": [
      "(2, 3)\n",
      "[2. 5.]\n",
      "(2,)\n"
     ]
    },
    {
     "ename": "ValueError",
     "evalue": "operands could not be broadcast together with shapes (2,3) (2,) ",
     "output_type": "error",
     "traceback": [
      "\u001b[1;31m---------------------------------------------------------------------------\u001b[0m",
      "\u001b[1;31mValueError\u001b[0m                                Traceback (most recent call last)",
      "\u001b[1;32m<ipython-input-18-54230b3d0769>\u001b[0m in \u001b[0;36m<module>\u001b[1;34m()\u001b[0m\n\u001b[0;32m      9\u001b[0m \u001b[0mprint\u001b[0m\u001b[1;33m(\u001b[0m\u001b[0mrow_means\u001b[0m\u001b[1;33m.\u001b[0m\u001b[0mshape\u001b[0m\u001b[1;33m)\u001b[0m\u001b[1;33m\u001b[0m\u001b[0m\n\u001b[0;32m     10\u001b[0m \u001b[1;33m\u001b[0m\u001b[0m\n\u001b[1;32m---> 11\u001b[1;33m \u001b[0mmean_shifted\u001b[0m \u001b[1;33m=\u001b[0m \u001b[0mx\u001b[0m \u001b[1;33m-\u001b[0m \u001b[0mrow_means\u001b[0m\u001b[1;33m\u001b[0m\u001b[0m\n\u001b[0m",
      "\u001b[1;31mValueError\u001b[0m: operands could not be broadcast together with shapes (2,3) (2,) "
     ]
    }
   ],
   "source": [
    "# Pokušajmo oduzeti srednju vrijednost za svaki vrstu, umjesto za kolonu\n",
    "x = np.array([[1, 2, 3],\n",
    "              [3, 5, 7]])\n",
    "\n",
    "print(x.shape)\n",
    "\n",
    "row_means = x.mean(axis=1)\n",
    "print(row_means)\n",
    "print(row_means.shape)\n",
    "\n",
    "mean_shifted = x - row_means"
   ]
  },
  {
   "cell_type": "markdown",
   "metadata": {},
   "source": [
    "Razlog zašto sada nije moguće uraditi broadcasting možemo pronaći ukoliko pogledamo pravila. Kako nizovi nemaju isti rang onda se manji proširuje do potrebnog ranga, pa su oblici nizova sada (2, 3) i (1, 2). Ova dva niza nisu kompatibilni po prvoj dimenziji (3 i 2). Ovo je moguće riješiti na dva načina:\n",
    "1. promjena oblika (reshape)\n",
    "2. korištenje keepdims pri računanju srednje vrijednosti"
   ]
  },
  {
   "cell_type": "code",
   "execution_count": 19,
   "metadata": {},
   "outputs": [
    {
     "name": "stdout",
     "output_type": "stream",
     "text": [
      "(2, 3)\n",
      "[[2.]\n",
      " [5.]]\n",
      "(2, 1)\n",
      "[[-1.  0.  1.]\n",
      " [-2.  0.  2.]]\n",
      "(2, 3)\n"
     ]
    }
   ],
   "source": [
    "# Promjena oblika\n",
    "x = np.array([[1, 2, 3],\n",
    "              [3, 5, 7]])\n",
    "print(x.shape)\n",
    "\n",
    "row_means = x.mean(axis=1).reshape((-1, 1))\n",
    "print(row_means)        \n",
    "print(row_means.shape)  \n",
    "\n",
    "mean_shifted = x - row_means\n",
    "print(mean_shifted)\n",
    "print(mean_shifted.shape)  "
   ]
  },
  {
   "cell_type": "code",
   "execution_count": 20,
   "metadata": {},
   "outputs": [
    {
     "name": "stdout",
     "output_type": "stream",
     "text": [
      "(2, 3)\n",
      "[[2.]\n",
      " [5.]]\n",
      "(2, 1)\n",
      "[[-1.  0.  1.]\n",
      " [-2.  0.  2.]]\n",
      "(2, 3)\n"
     ]
    }
   ],
   "source": [
    "# Korištenje keepdims\n",
    "x = np.array([[1, 2, 3],\n",
    "              [3, 5, 7]])\n",
    "print(x.shape)\n",
    "\n",
    "row_means = x.mean(axis=1, keepdims = True)\n",
    "print(row_means)        \n",
    "print(row_means.shape)  \n",
    "\n",
    "mean_shifted = x - row_means\n",
    "print(mean_shifted)\n",
    "print(mean_shifted.shape)"
   ]
  },
  {
   "cell_type": "markdown",
   "metadata": {},
   "source": [
    "Ukoliko znamo da ćemo koristiti broadcasting onda je jednostavnije koristiti keepdims parametar, nego ručno voditi računa o obliku niza."
   ]
  },
  {
   "cell_type": "markdown",
   "metadata": {},
   "source": [
    "## Pogled - Kopija (View - Copy) "
   ]
  },
  {
   "cell_type": "markdown",
   "metadata": {},
   "source": [
    "Pri indeksiranju elemenata niza moguće je kao rezultat dobiti pogled ili kopiju. U slučaju pogleda izmjena vrijednosti pogleda će rezultovati izmjenom vrijednosti u originalnom nizu. Pogled dobijamo kada koristimo slicing, dok se kopija dobija u slučajevima korištenja kompleksnog indeksiranja ili pristupa samo jednoj vrijednosti."
   ]
  },
  {
   "cell_type": "code",
   "execution_count": 21,
   "metadata": {},
   "outputs": [
    {
     "name": "stdout",
     "output_type": "stream",
     "text": [
      "Original:\n",
      " [0 1 2 3 4]\n",
      "Array After Modified View:\n",
      " [ 0  1 -1  3  4]\n"
     ]
    }
   ],
   "source": [
    "x = np.arange(5)\n",
    "print('Original:\\n', x)\n",
    "\n",
    "# Promjena pogleda će rezultovati promjenom originala\n",
    "view = x[1:3]\n",
    "view[1] = -1\n",
    "print('Array After Modified View:\\n', x)"
   ]
  },
  {
   "cell_type": "code",
   "execution_count": 22,
   "metadata": {},
   "outputs": [
    {
     "name": "stdout",
     "output_type": "stream",
     "text": [
      "View Before Array Modification:\n",
      " [ 1 -1]\n",
      "Array After Modifications:\n",
      " [ 0  1 10  3  4]\n",
      "View After Array Modification:\n",
      " [ 1 10]\n"
     ]
    }
   ],
   "source": [
    "x = np.arange(5)\n",
    "view = x[1:3]\n",
    "view[1] = -1\n",
    "\n",
    "# Takođe će i promjena originala rezultovati promjenom pogleda\n",
    "print('View Before Array Modification:\\n', view)\n",
    "x[2] = 10\n",
    "print('Array After Modifications:\\n', x)        \n",
    "print('View After Array Modification:\\n', view)  "
   ]
  },
  {
   "cell_type": "markdown",
   "metadata": {},
   "source": [
    "Ukoliko se želi dobiti kopija za slicing mogu se koristiti metoda i funkcija copy."
   ]
  },
  {
   "cell_type": "code",
   "execution_count": 23,
   "metadata": {},
   "outputs": [
    {
     "name": "stdout",
     "output_type": "stream",
     "text": [
      "Array After Modifications:\n",
      " [0 1 2 3 4]\n"
     ]
    }
   ],
   "source": [
    "x = np.arange(5)\n",
    "copy = x[1:3].copy()\n",
    "copy[1] = -1\n",
    "\n",
    "print('Array After Modifications:\\n', x)"
   ]
  },
  {
   "cell_type": "code",
   "execution_count": 24,
   "metadata": {},
   "outputs": [
    {
     "name": "stdout",
     "output_type": "stream",
     "text": [
      "Array After Modifications:\n",
      " [0 1 2 3 4]\n"
     ]
    }
   ],
   "source": [
    "x = np.arange(5)\n",
    "copy = np.copy(x[1:3])\n",
    "copy[1] = -1\n",
    "\n",
    "print('Array After Modifications:\\n', x)"
   ]
  },
  {
   "cell_type": "markdown",
   "metadata": {},
   "source": [
    "Pri korištenju kompleksnog indeksiranja i pristupa jednom elementu dobija se kopija."
   ]
  }
 ],
 "metadata": {
  "kernelspec": {
   "display_name": "Python 3",
   "language": "python",
   "name": "python3"
  },
  "language_info": {
   "codemirror_mode": {
    "name": "ipython",
    "version": 3
   },
   "file_extension": ".py",
   "mimetype": "text/x-python",
   "name": "python",
   "nbconvert_exporter": "python",
   "pygments_lexer": "ipython3",
   "version": "3.7.0"
  }
 },
 "nbformat": 4,
 "nbformat_minor": 2
}
