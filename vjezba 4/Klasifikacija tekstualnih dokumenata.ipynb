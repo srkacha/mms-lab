{
 "cells": [
  {
   "cell_type": "markdown",
   "metadata": {},
   "source": [
    "# Vježba 4 - Klasifikacija tekstualnih dokumenata"
   ]
  },
  {
   "cell_type": "markdown",
   "metadata": {
    "scrolled": true
   },
   "source": [
    "U sklopu vježbe ćemo izvršiti klasifikaciju dokumenata na spam i ham. Za obučavanje klasifikatora se koristi trening skup, dok se za tesitiranje rada klasifikator koristi testni skup. Za izbor hiperparametara klasifikatora se koristi validacioni skup. U narednoj ćeliji je potrebo napisati kod koji će izvršiti podjelu skupa dokumenata na treining i test skup. Za ovo je moguće iskoristiti funkciju <a href=\"http://scikit-learn.org/stable/modules/generated/sklearn.model_selection.train_test_split.html\">train_test_split</a> iz biblioteke sklearn. Skup je potrebno podjeliti tako da 50% dokumenata pripada trening skupu, a 50% test skupu. Nakon toga od dobijenog traing skupa potrebno 20% uzoraka ostaviti za validacioni skup. Obratiti pažnju na parametar stratify da se ne desi da se u jednom od skupova nalazi većina predstavnika jedne od klasa."
   ]
  },
  {
   "cell_type": "code",
   "execution_count": 3,
   "metadata": {},
   "outputs": [],
   "source": [
    "import string\n",
    "import os\n",
    "\n",
    "#Putanja do korpusa\n",
    "path = \"./enron\"\n",
    "\n",
    "#Lista koja sadrži putanje do svih fajlova\n",
    "file_paths = []\n",
    "\n",
    "#Lista koja sadrži labele za sve fajlove\n",
    "targets = []\n",
    "\n",
    "#Prolazak kroz sve fajlove\n",
    "for dirpath, dirs, files in os.walk(path):\n",
    "    for f in files:\n",
    "        #print(fname)\n",
    "        fname = os.path.join(dirpath, f)    #Putanja do fajla\n",
    "        file_paths.append(fname)            #Dodavanje putanje u listu putanja\n",
    "        if fname.split('.')[-2] == \"spam\":\n",
    "            targets.append(1)\n",
    "        else:\n",
    "            targets.append(0)"
   ]
  },
  {
   "cell_type": "code",
   "execution_count": 4,
   "metadata": {},
   "outputs": [],
   "source": [
    "from sklearn.model_selection import train_test_split\n",
    "\n",
    "#KOD\n",
    "#Izlazi trebaju biti paths_train, paths_val, paths_test, y_train, y_val, y_test\n",
    "paths_train, paths_test, y_train, y_test =  train_test_split(file_paths, targets, test_size = 0.5, shuffle = True)\n",
    "paths_train, paths_val, y_train, y_val = train_test_split(paths_train, y_train, test_size=0.2, shuffle = True)\n",
    "\n"
   ]
  },
  {
   "cell_type": "markdown",
   "metadata": {},
   "source": [
    "U naredne dvije ćelije je dat kod koji vrši računanje vektorske reprezentacije za svaki od dokumenata iz sva tri skupa."
   ]
  },
  {
   "cell_type": "code",
   "execution_count": 5,
   "metadata": {},
   "outputs": [],
   "source": [
    "from nltk.stem.porter import PorterStemmer\n",
    "import re\n",
    "import nltk\n",
    "\n",
    "stemmer = PorterStemmer()\n",
    "minlen = 1\n",
    "\n",
    "def normalize(text):\n",
    "    # Funkcija koja vrši normalizaciju teksta\n",
    "    text = text.lower()                                         #Pretvaranja u mala slova\n",
    "    text = re.sub('<[^<>]+>', ' ', text)                        #Uklanjanje HTML tagova\n",
    "    text = re.sub('(http|https)://[^\\s]*', 'httpaddr', text)    #Uklanjanje URL-ova\n",
    "    text = re.sub('[^\\s]+@[^\\s]+', 'emailaddr', text)           #Uklanjanje mail adresa\n",
    "    text = re.sub('[0-9]+', 'number', text)                     #Zamjena svih brojeva u tekstu riječju number\n",
    "    text = re.sub('[$]+', 'dollar', text)                       #Zamjana znaka $ rječju dollar\n",
    "    return text\n",
    "\n",
    "def tokenize(text):\n",
    "    #Funkcija koja vrši tokenizaciju teksta na sastavne riječi\n",
    "    text = normalize(text)\n",
    "    tokens = nltk.word_tokenize(text)            #Tokenizacija teksta\n",
    "    stems = []\n",
    "    for token in tokens:\n",
    "        stem = stemmer.stem(token)               #Stemizacija tokena\n",
    "        if len(stem) > minlen:                   #Zadržavanje tokena čija je dužina veća od minlen\n",
    "            stems.append(stem)\n",
    "    return stems"
   ]
  },
  {
   "cell_type": "code",
   "execution_count": 6,
   "metadata": {},
   "outputs": [
    {
     "name": "stderr",
     "output_type": "stream",
     "text": [
      "C:\\Users\\Jova\\Anaconda3\\envs\\mms\\lib\\site-packages\\sklearn\\feature_extraction\\text.py:286: UserWarning: Your stop_words may be inconsistent with your preprocessing. Tokenizing the stop words generated tokens ['abov', 'afterward', 'alon', 'alreadi', 'alway', 'ani', 'anoth', 'anyon', 'anyth', 'anywher', 'becam', 'becaus', 'becom', 'befor', 'besid', 'cri', 'describ', 'dure', 'els', 'elsewher', 'empti', 'everi', 'everyon', 'everyth', 'everywher', 'fifti', 'formerli', 'forti', 'ha', 'henc', 'hereaft', 'herebi', 'hi', 'howev', 'hundr', 'inde', 'latterli', 'mani', 'meanwhil', 'moreov', 'mostli', 'nobodi', 'noon', 'noth', 'nowher', 'onc', 'onli', 'otherwis', 'ourselv', 'perhap', 'pleas', 'seriou', 'sever', 'sinc', 'sincer', 'sixti', 'someon', 'someth', 'sometim', 'somewher', 'themselv', 'thenc', 'thereaft', 'therebi', 'therefor', 'thi', 'thu', 'togeth', 'twelv', 'twenti', 'veri', 'wa', 'whatev', 'whenc', 'whenev', 'wherea', 'whereaft', 'wherebi', 'wherev', 'whi', 'yourselv'] not in stop_words.\n",
      "  sorted(inconsistent))\n"
     ]
    },
    {
     "data": {
      "text/plain": [
       "(2068, 20100)"
      ]
     },
     "execution_count": 6,
     "metadata": {},
     "output_type": "execute_result"
    }
   ],
   "source": [
    "from sklearn.feature_extraction.text import TfidfVectorizer\n",
    "import numpy as np\n",
    "\n",
    "#Dictionary koji sadrži tekst svakog dokumenta iz trening skupa\n",
    "train_dict = {}\n",
    "\n",
    "#Dictionary koji sadrži tekst svakog dokumenta iz validacionog skupa\n",
    "val_dict = {}\n",
    "\n",
    "#Dictionary koji sadrži tekst svakog dokumenta iz test skupa\n",
    "test_dict = {}\n",
    "\n",
    "#Prolazak kroz sve fajlove iz svih skupova\n",
    "for fname in paths_train:\n",
    "    with open(fname, 'r', encoding=\"utf8\", errors='ignore') as fh:\n",
    "        train_dict[fname] = fh.read()\n",
    "        \n",
    "for fname in paths_val:\n",
    "    with open(fname, 'r', encoding=\"utf8\", errors='ignore') as fh:\n",
    "        val_dict[fname] = fh.read()\n",
    "        \n",
    "for fname in paths_test:\n",
    "    with open(fname, 'r', encoding=\"utf8\", errors='ignore') as fh:\n",
    "        test_dict[fname] = fh.read()\n",
    "\n",
    "#Definisanje objekta koji služi za određivanje TFIDF reprezentacije, za tokenizaciju se koristifunkcije data\n",
    "#kao parametar tokenize, dok se kao stop riječi koriste one iz enegleskog jezika (moguće je zadati i listu koja sadrži stop riječi)\n",
    "tfidf = TfidfVectorizer(tokenizer=tokenize, stop_words='english')\n",
    "\n",
    "#Učenje rječnika i transformacija dokumenata koji su iskorišteni za učenje rječnika\n",
    "#U representations_tfidf se sada nalazi rezrezentacija svih dokumenata iz korpusa\n",
    "X_train = tfidf.fit_transform(train_dict.values())\n",
    "y_train = np.array(y_train)\n",
    "\n",
    "X_val = tfidf.transform(val_dict.values())\n",
    "y_val = np.array(y_val)\n",
    "\n",
    "X_test = tfidf.transform(test_dict.values())\n",
    "y_test = np.array(y_test)\n",
    "\n",
    "X_train.shape"
   ]
  },
  {
   "cell_type": "code",
   "execution_count": 22,
   "metadata": {},
   "outputs": [
    {
     "name": "stdout",
     "output_type": "stream",
     "text": [
      "  (0, 17687)\t0.05669430810971992\n",
      "  (0, 8696)\t0.2689011248875405\n",
      "  (0, 278)\t0.2948576553603697\n",
      "  (0, 7790)\t0.24708255734239007\n",
      "  (0, 11673)\t0.3649750568025376\n",
      "  (0, 7735)\t0.3649750568025376\n",
      "  (0, 17014)\t0.3982992150852831\n",
      "  (0, 10674)\t0.41095018433618796\n",
      "  (0, 12721)\t0.427260120389412\n"
     ]
    }
   ],
   "source": [
    "print(X_train[-1])"
   ]
  },
  {
   "cell_type": "markdown",
   "metadata": {},
   "source": [
    "U naredne dvije ćelije je potrebno napisati kod koji implementira klasifikator na principu k najbližih susjeda, te implementirati funkciju koja vrši računanje tačnosti. Korisna fukcija pri implementrianju knn algoritma je <a href=\"http://scikit-learn.org/stable/modules/generated/sklearn.metrics.pairwise_distances.html\">pairwise_distances</a> iz sklearn biblioteke."
   ]
  },
  {
   "cell_type": "code",
   "execution_count": 7,
   "metadata": {},
   "outputs": [],
   "source": [
    "from sklearn.metrics.pairwise import pairwise_distances\n",
    "\n",
    "def knn(query, train_data, train_targets, k = 5):\n",
    "    \"\"\"Fukcija koja kao rezultat vraća predikcije za sve dokumente iz query vektora na osnovu knn algoritma\n",
    "    \n",
    "    Parameters\n",
    "    ----------\n",
    "    query - niz oblika (n_dokumenata, n_obilježija) koji predstavlja upit\n",
    "    train_data - niz oblika (n_dokumenata, n_obilježija) koji predstavlja trening skup\n",
    "    train_targets - niz oblika (n_dokumenata) koji sadrži labele za elemente trening skupa\n",
    "    k - parametar koji određuje koliko se susjeda koristi\n",
    "    \n",
    "    Returns\n",
    "    -------\n",
    "    predictions - niz oblika (n_dokumenata, ) koji sadrži prediktovanu labelu za sve dokumente iz query\"\"\"\n",
    "    \n",
    "    #KOD\n",
    "    predictions = []\n",
    "#     for rep in query:\n",
    "#         distances = []\n",
    "#         for rep_t in train_data:\n",
    "#             dis = pairwise_distances(rep, rep_t)\n",
    "#             distances.append(dis)\n",
    "#         sorted_dis = np.argsort(distances)\n",
    "#         k_best = sorted_dis[0:k:1]\n",
    "#         one_count = 0\n",
    "#         for n in train_targets[k_best]:\n",
    "#             if n == 1: one_count += 1\n",
    "#         if one_count > k/2: \n",
    "#             predictions.append(1)\n",
    "#         else:\n",
    "#             predictions.append(0)\n",
    "            \n",
    "    distance_matrix = pairwise_distances(query, train_data)\n",
    "    sorted_distances = np.argsort(distance_matrix, axis=1)\n",
    "    k_best = sorted_distances[:,:k]\n",
    "    k_best_real_classes = train_targets[k_best]\n",
    "    for row in k_best_real_classes:\n",
    "        to_append = np.bincount(row).argmax()\n",
    "        predictions.append(to_append)\n",
    "    \n",
    "            \n",
    "    return predictions\n",
    "    "
   ]
  },
  {
   "cell_type": "code",
   "execution_count": 8,
   "metadata": {},
   "outputs": [],
   "source": [
    "def calculate_accuracy(predictions, targets):\n",
    "    \"\"\"Funkcija koja vrši računanje tačnosti\n",
    "    \n",
    "    Parameters\n",
    "    ----------\n",
    "    predictions - niz oblika (n_dokumenata, ) koji sadrži prediktovane labele\n",
    "    targets - niz oblika (n_dokumenata, ) koji sadrži stvarne labele\n",
    "    \n",
    "    Returns\n",
    "    -------\n",
    "    accuracy - tačnost prediktovanih vrijednosti\"\"\"\n",
    "    \n",
    "    #KOD\n",
    "    return ((predictions - targets)==0).sum()/len(predictions)"
   ]
  },
  {
   "cell_type": "markdown",
   "metadata": {},
   "source": [
    "Izvršiti obučavanje klasifikatora na bazi knn algoritma i izvršiti iybor hiperparametara. Provjeriti uticaj parametra k na tačnost klasifikacije. Paramatear k uzeti iz opsega [1, 7]. Nacrtati grafik zavisnosti tačnosti klasifikacije na validacionom skupu od parametra k."
   ]
  },
  {
   "cell_type": "code",
   "execution_count": 23,
   "metadata": {},
   "outputs": [
    {
     "name": "stdout",
     "output_type": "stream",
     "text": [
      "1\n",
      "2\n",
      "3\n",
      "4\n",
      "5\n",
      "6\n",
      "7\n"
     ]
    }
   ],
   "source": [
    "#KOD\n",
    "import numpy as np\n",
    "\n",
    "k = np.arange(1, 8)\n",
    "accs = []\n",
    "\n",
    "for n in k:\n",
    "    predictions = knn(X_val, X_train, y_train, n)\n",
    "    print(n)\n",
    "    acc = calculate_accuracy(predictions, y_val)\n",
    "    accs.append(acc)\n",
    "    "
   ]
  },
  {
   "cell_type": "code",
   "execution_count": 24,
   "metadata": {},
   "outputs": [
    {
     "name": "stdout",
     "output_type": "stream",
     "text": [
      "[0.9305019305019305, 0.9054054054054054, 0.9266409266409267, 0.9111969111969112, 0.9247104247104247, 0.9131274131274131, 0.915057915057915]\n"
     ]
    },
    {
     "data": {
      "text/plain": [
       "[<matplotlib.lines.Line2D at 0x2ae6344a710>]"
      ]
     },
     "execution_count": 24,
     "metadata": {},
     "output_type": "execute_result"
    },
    {
     "data": {
      "image/png": "[encoded data removed]",
      "text/plain": [
       "<Figure size 432x288 with 1 Axes>"
      ]
     },
     "metadata": {
      "needs_background": "light"
     },
     "output_type": "display_data"
    }
   ],
   "source": [
    "import matplotlib.pyplot as plt\n",
    "\n",
    "print(accs)\n",
    "\n",
    "plt.plot(k, accs)"
   ]
  },
  {
   "cell_type": "markdown",
   "metadata": {},
   "source": [
    "Iskoristiti funkciju <a href=\"http://scikit-learn.org/stable/modules/generated/sklearn.metrics.confusion_matrix.html\">confusion_matrix</a> iz biblioteke sklearn za određivanje matrice konfuzija. Za parametar k koji daje najbolje rezultate na validacionom skupu prikazati matricu konfuzija i ta;nost na testnom skupu."
   ]
  },
  {
   "cell_type": "code",
   "execution_count": 15,
   "metadata": {},
   "outputs": [
    {
     "name": "stdout",
     "output_type": "stream",
     "text": [
      "[[1751   92]\n",
      " [  86  657]]\n"
     ]
    }
   ],
   "source": [
    "from sklearn.metrics import confusion_matrix\n",
    "\n",
    "#KOD\n",
    "\n",
    "conf_mat = confusion_matrix(y_test, knn(X_test, X_train, y_train, 1))\n",
    "print(conf_mat)"
   ]
  },
  {
   "cell_type": "markdown",
   "metadata": {},
   "source": [
    "U narednom djelu vježbe je potrebno iskoristiti mašine sa vektorima nosačima kao algoritam za klasifikaciju. Implementacija mašina sa vektorima nosačima je data u biblioteci sklearn u klasi <a href=\"http://scikit-learn.org/stable/modules/generated/sklearn.svm.SVC.html\">SVC</a>. Za treniranje klasifikatora je moguće iskoristiti metodu fit, dok se za predikciju koristi metoda predict. Provjeriti uticaje parametara kao što su tip kernela, C i gamma na tačnost klasifikacije na validacionom skupu. Kao kernel isprobati linearni i RBF, za parametar C iskoristiti vrijednosti {1, 10, 100, 1000}, a za parametar gamma {0.1, 0.01}."
   ]
  },
  {
   "cell_type": "code",
   "execution_count": 21,
   "metadata": {},
   "outputs": [
    {
     "name": "stdout",
     "output_type": "stream",
     "text": [
      "0.9536679536679536   0.1   1\n",
      "0.9787644787644788   0.1   10\n",
      "0.9806949806949807   0.1   100\n",
      "0.9806949806949807   0.1   1000\n",
      "0.7065637065637066   0.01   1\n",
      "0.9536679536679536   0.01   10\n",
      "0.9806949806949807   0.01   100\n",
      "0.9806949806949807   0.01   1000\n"
     ]
    }
   ],
   "source": [
    "from sklearn.svm import SVC\n",
    "\n",
    "#KOD\n",
    "gamma = [0.1, 0.01]\n",
    "C = [1, 10, 100, 1000]\n",
    "max_acc = 0\n",
    "max_gamma = 0\n",
    "max_c = 0\n",
    "clf = SVC(gamma=0.1)\n",
    "clf.fit(X_train, y_train)\n",
    "for g in gamma:\n",
    "    for c in C:\n",
    "        clf = SVC(gamma = g, C = c)\n",
    "        clf.fit(X_train, y_train)\n",
    "        pred = clf.predict(X_val)\n",
    "        acc = calculate_accuracy(pred, y_val)\n",
    "        print(acc, \" \", g, \" \", c)\n",
    "        if acc>max_acc:\n",
    "            max_gamma = g\n",
    "            max_c = c"
   ]
  },
  {
   "cell_type": "code",
   "execution_count": 22,
   "metadata": {},
   "outputs": [],
   "source": [
    "def svc(gammap, c, X_test):\n",
    "    clf = SVC(gamma = gammap, C = c)\n",
    "    clf.fit(X_train, y_train)\n",
    "    pred = clf.predict(X_test)\n",
    "    return pred"
   ]
  },
  {
   "cell_type": "code",
   "execution_count": 6,
   "metadata": {},
   "outputs": [],
   "source": [
    "#KOD"
   ]
  },
  {
   "cell_type": "markdown",
   "metadata": {},
   "source": [
    "Prikazati matricu konfuzija i ta;nost na testnom skupu za parametre mašine sa vektorima nosačima koja daje najveću tačnost na validacionom skupu."
   ]
  },
  {
   "cell_type": "code",
   "execution_count": 24,
   "metadata": {},
   "outputs": [],
   "source": [
    "#KOD\n",
    "from sklearn.metrics import confusion_matrix\n",
    "\n",
    "conf_mat = confusion_matrix(y_test, svc(max_gamma, max_c, X_test))"
   ]
  },
  {
   "cell_type": "code",
   "execution_count": 27,
   "metadata": {},
   "outputs": [
    {
     "name": "stdout",
     "output_type": "stream",
     "text": [
      "[[1803   40]\n",
      " [  13  730]]\n",
      "1.2054794520547918\n"
     ]
    }
   ],
   "source": [
    "print(conf_mat)\n",
    "\n",
    "print(( 1- 1803/1825)*100)"
   ]
  }
 ],
 "metadata": {
  "kernelspec": {
   "display_name": "Python 3",
   "language": "python",
   "name": "python3"
  },
  "language_info": {
   "codemirror_mode": {
    "name": "ipython",
    "version": 3
   },
   "file_extension": ".py",
   "mimetype": "text/x-python",
   "name": "python",
   "nbconvert_exporter": "python",
   "pygments_lexer": "ipython3",
   "version": "3.7.0"
  }
 },
 "nbformat": 4,
 "nbformat_minor": 2
}
